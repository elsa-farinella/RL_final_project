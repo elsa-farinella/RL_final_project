{
 "cells": [
  {
   "cell_type": "code",
   "execution_count": null,
   "metadata": {},
   "outputs": [],
   "source": [
    "import torch\n",
    "from datasets import load_dataset\n",
    "from peft import LoraConfig, prepare_model_for_kbit_training\n",
    "from transformers import (\n",
    "    AutoModelForCausalLM,\n",
    "    AutoTokenizer,\n",
    "    BitsAndBytesConfig,\n",
    "    AutoTokenizer,\n",
    "    TrainingArguments,\n",
    ")\n",
    "from trl import DPOTrainer, DPOConfig\n",
    "import json\n",
    "from datasets import Dataset\n",
    "from sklearn.model_selection import train_test_split"
   ]
  },
  {
   "cell_type": "code",
   "execution_count": null,
   "metadata": {},
   "outputs": [],
   "source": [
    "device = torch.device(\"cuda\" if torch.cuda.is_available() else \"cpu\")"
   ]
  },
  {
   "cell_type": "code",
   "execution_count": null,
   "metadata": {},
   "outputs": [],
   "source": [
    "# we load the tokenizer and add the special tokens acording to the STF model\n",
    "tokenizer = AutoTokenizer.from_pretrained(\"gpt2-large\")\n",
    "tokenizer.add_special_tokens({\"pad_token\": \"<pad>\"})\n",
    "tokenizer.add_tokens([\"<bot>: \"])"
   ]
  },
  {
   "cell_type": "code",
   "execution_count": null,
   "metadata": {},
   "outputs": [],
   "source": [
    "# we create an instance of the model\n",
    "policy_model = AutoModelForCausalLM.from_pretrained(\n",
    "    \"gpt2-large\",\n",
    "    device_map=\"auto\",\n",
    "    trust_remote_code=True,\n",
    "    low_cpu_mem_usage=True\n",
    ").to(device)"
   ]
  },
  {
   "cell_type": "code",
   "execution_count": null,
   "metadata": {},
   "outputs": [],
   "source": [
    "# we manage the tokenizer and finally load the SFT weights\n",
    "\n",
    "policy_model.config.pad_token_id = tokenizer.pad_token_id\n",
    "\n",
    "policy_model.config.use_cache = False\n",
    "\n",
    "policy_model.resize_token_embeddings(len(tokenizer))\n",
    "\n",
    "policy_model.load_state_dict(torch.load(\"weights/model_state_2_large_v2.pt\", map_location=device))"
   ]
  },
  {
   "cell_type": "code",
   "execution_count": null,
   "metadata": {},
   "outputs": [],
   "source": [
    "# we prepare the model for training with PEFT to get a better performance\n",
    "peft_config = LoraConfig(\n",
    "        r=16,\n",
    "        lora_alpha=16,\n",
    "        lora_dropout=0.05,\n",
    "        bias=\"none\",\n",
    "        task_type=\"CAUSAL_LM\",\n",
    "        target_modules= [\"c_attn\", \"c_proj\", \"c_fc\"]\n",
    ")"
   ]
  },
  {
   "cell_type": "code",
   "execution_count": null,
   "metadata": {},
   "outputs": [],
   "source": [
    "# we define the arguments for the DPO training\n",
    "training_arguments = DPOConfig(\n",
    "    output_dir=\"./results\",\n",
    "        evaluation_strategy=\"steps\",\n",
    "        do_eval=True,\n",
    "        per_device_train_batch_size=2,\n",
    "        gradient_accumulation_steps=4,\n",
    "        per_device_eval_batch_size=2,\n",
    "        log_level=\"debug\",\n",
    "        save_steps=10,\n",
    "        logging_steps=10,\n",
    "        learning_rate=1e-5,\n",
    "        eval_steps=20,\n",
    "        num_train_epochs=10,\n",
    "        max_steps=200,\n",
    "        warmup_steps=20,\n",
    "        lr_scheduler_type=\"cosine\",\n",
    "        remove_unused_columns=False\n",
    ")"
   ]
  },
  {
   "cell_type": "code",
   "execution_count": null,
   "metadata": {},
   "outputs": [],
   "source": [
    "# we load the dataset\n",
    "dict_dataset = json.load(open(\"data/dpo_dataset_RL.json\", \"r\"))\n",
    "dataset = Dataset.from_dict(dict_dataset)\n",
    "train_set, val_set = train_test_split(dataset, test_size=0.2)\n",
    "train_set = Dataset.from_dict(train_set)\n",
    "val_set = Dataset.from_dict(val_set)"
   ]
  },
  {
   "cell_type": "code",
   "execution_count": null,
   "metadata": {},
   "outputs": [],
   "source": [
    "# we create the trainer and start the training\n",
    "trainer = DPOTrainer(\n",
    "    policy_model,\n",
    "    ref_model=None,\n",
    "    args=training_arguments,\n",
    "    beta=0.1,\n",
    "    peft_config=peft_config,\n",
    "    train_dataset=train_set,\n",
    "    eval_dataset=val_set,\n",
    "    tokenizer=tokenizer,\n",
    ")\n",
    "trainer.train()"
   ]
  },
  {
   "cell_type": "code",
   "execution_count": null,
   "metadata": {},
   "outputs": [],
   "source": [
    "# save the state dict of the model\n",
    "torch.save(policy_model.state_dict(), \"weights/model_post_DPO.pt\")"
   ]
  }
 ],
 "metadata": {
  "kernelspec": {
   "display_name": "base",
   "language": "python",
   "name": "python3"
  },
  "language_info": {
   "codemirror_mode": {
    "name": "ipython",
    "version": 3
   },
   "file_extension": ".py",
   "mimetype": "text/x-python",
   "name": "python",
   "nbconvert_exporter": "python",
   "pygments_lexer": "ipython3",
   "version": "3.10.9"
  }
 },
 "nbformat": 4,
 "nbformat_minor": 2
}
