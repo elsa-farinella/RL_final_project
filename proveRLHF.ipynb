{
 "cells": [
  {
   "cell_type": "code",
   "execution_count": null,
   "metadata": {},
   "outputs": [],
   "source": [
    "from transformers import AutoTokenizer, pipeline, GPT2Tokenizer, GPT2LMHeadModel\n",
    "from trl import AutoModelForCausalLMWithValueHead, PPOConfig, PPOTrainer\n",
    "from tqdm import tqdm\n",
    "import torch\n",
    "import os\n",
    "import json\n",
    "import gc\n",
    "from gpt_wrapper.chat import Chat\n",
    "from reward_model import GPTRewardModel\n",
    "from datasets import Dataset"
   ]
  },
  {
   "cell_type": "code",
   "execution_count": null,
   "metadata": {},
   "outputs": [],
   "source": [
    "import gpt_wrapper\n",
    "\n",
    "gpt_wrapper.api_base = \"http://mnlp-backend-938795011.eu-central-1.elb.amazonaws.com\"\n",
    "gpt_wrapper.api_key = \"3e510581-28fa-4342-9758-4fa131bc2f42\""
   ]
  },
  {
   "cell_type": "code",
   "execution_count": null,
   "metadata": {},
   "outputs": [],
   "source": [
    "device = torch.device(\"cuda\" if torch.cuda.is_available() else \"cpu\")"
   ]
  },
  {
   "cell_type": "code",
   "execution_count": null,
   "metadata": {},
   "outputs": [],
   "source": [
    "tokenizer = AutoTokenizer.from_pretrained(\"gpt2-large\")\n",
    "tokenizer.add_special_tokens({\"pad_token\": \"<pad>\"})\n",
    "tokenizer.add_tokens([\"<bot>: \"])"
   ]
  },
  {
   "cell_type": "code",
   "execution_count": null,
   "metadata": {},
   "outputs": [],
   "source": [
    "model = GPT2LMHeadModel.from_pretrained(\"gpt2-large\")\n",
    "model.resize_token_embeddings(len(tokenizer))\n",
    "model.load_state_dict(torch.load(\"weights/model_state_2_large_v2.pt\", map_location=torch.device(device)))"
   ]
  },
  {
   "cell_type": "code",
   "execution_count": null,
   "metadata": {},
   "outputs": [],
   "source": [
    "model = AutoModelForCausalLMWithValueHead.from_pretrained(model).to(device)\n"
   ]
  },
  {
   "cell_type": "code",
   "execution_count": null,
   "metadata": {},
   "outputs": [],
   "source": [
    "reward_model = GPTRewardModel('gpt2').to(device)\n",
    "reward_model.load_state_dict(torch.load(\"reward_model.pth\", map_location=torch.device(device)))"
   ]
  },
  {
   "cell_type": "code",
   "execution_count": null,
   "metadata": {},
   "outputs": [],
   "source": [
    "data = json.load(open(\"data/data_merged.json\", \"r\"))\n",
    "dataset = {'query' : []}\n",
    "for i in range(len(data['queries'])):\n",
    "    dataset['query'].append(data['queries'][i])\n",
    "    \n",
    "dataset = Dataset.from_dict(dataset)"
   ]
  },
  {
   "cell_type": "code",
   "execution_count": null,
   "metadata": {},
   "outputs": [],
   "source": [
    "config = PPOConfig(\n",
    "    seed = 42,\n",
    "    mini_batch_size=1,\n",
    "    #log_with= 'wandb',\n",
    "    ratio_threshold=50,\n",
    "    learning_rate=1e-8,\n",
    "    steps = 100,\n",
    "    batch_size=1\n",
    ")"
   ]
  },
  {
   "cell_type": "code",
   "execution_count": null,
   "metadata": {},
   "outputs": [],
   "source": [
    "ppo_trainer = PPOTrainer(\n",
    "    model=model,\n",
    "    dataset=dataset,\n",
    "    tokenizer=tokenizer,\n",
    "    config = config,\n",
    "    \n",
    ")"
   ]
  },
  {
   "cell_type": "code",
   "execution_count": null,
   "metadata": {},
   "outputs": [],
   "source": [
    "reward_tokenizer = AutoTokenizer.from_pretrained('gpt2')\n",
    "reward_tokenizer.pad_token = reward_tokenizer.eos_token\n"
   ]
  },
  {
   "cell_type": "code",
   "execution_count": null,
   "metadata": {},
   "outputs": [],
   "source": [
    "reward_model.eval()"
   ]
  },
  {
   "cell_type": "code",
   "execution_count": null,
   "metadata": {},
   "outputs": [],
   "source": [
    "for batch in dataset:\n",
    "    query = batch['query']\n",
    "    # generate respnse\n",
    "    gpt_tokenized_text = tokenizer(query, return_tensors='pt', padding=True, truncation=True, max_length=1024).to(device)\n",
    "    input_ids = gpt_tokenized_text['input_ids'].to(device)\n",
    "    attention_mask = gpt_tokenized_text['attention_mask'].to(device)\n",
    "    output = model.generate(input_ids, attention_mask=attention_mask, max_length=150)\n",
    "    answer = tokenizer.decode(output[0], skip_special_tokens=True)\n",
    "    batch['response'] = answer\n",
    "    input_reward = query + \"\\n\" + answer\n",
    "    input_ids = reward_tokenizer(input_reward, return_tensors='pt', padding=True, truncation=True, max_length=1024).to(device)['input_ids']\n",
    "    attention_mask = reward_tokenizer(input_reward, return_tensors='pt', padding=True, truncation=True, max_length=1024).to(device)['attention_mask']\n",
    "    reward = reward_model(input_ids, attention_mask=attention_mask)\n",
    "    reward = [torch.tensor(reward).to(device)]\n",
    "    input_ids = [input_ids]\n",
    "    output = [output]\n",
    "    stats = ppo_trainer.step(input_ids, output, reward)\n",
    "    ppo_trainer.log_stats(stats, batch, reward)"
   ]
  }
 ],
 "metadata": {
  "kernelspec": {
   "display_name": "base",
   "language": "python",
   "name": "python3"
  },
  "language_info": {
   "codemirror_mode": {
    "name": "ipython",
    "version": 3
   },
   "file_extension": ".py",
   "mimetype": "text/x-python",
   "name": "python",
   "nbconvert_exporter": "python",
   "pygments_lexer": "ipython3",
   "version": "3.10.9"
  }
 },
 "nbformat": 4,
 "nbformat_minor": 2
}
