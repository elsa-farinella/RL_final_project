{
 "cells": [
  {
   "cell_type": "code",
   "execution_count": 1,
   "metadata": {},
   "outputs": [],
   "source": [
    "import gpt_wrapper\n",
    "\n",
    "gpt_wrapper.api_base = \"http://mnlp-backend-938795011.eu-central-1.elb.amazonaws.com\"\n",
    "gpt_wrapper.api_key = \"3e510581-28fa-4342-9758-4fa131bc2f42\""
   ]
  },
  {
   "cell_type": "code",
   "execution_count": 2,
   "metadata": {},
   "outputs": [],
   "source": [
    "from gpt_wrapper.chat import Chat\n",
    "chat1 = Chat.create(\"Test Chat\")"
   ]
  },
  {
   "cell_type": "code",
   "execution_count": 43,
   "metadata": {},
   "outputs": [
    {
     "name": "stderr",
     "output_type": "stream",
     "text": [
      "/tmp/ipykernel_1416445/2875029425.py:5: ParserWarning: Falling back to the 'python' engine because the 'c' engine does not support regex separators (separators > 1 char and different from '\\s+' are interpreted as regex); you can avoid this warning by specifying engine='python'.\n",
      "  df2 = pd.read_csv('/home/rfaro/anaconda3/EPFL_ML/ml-project-2-betterthanpoli/RL/RLHF/q&a_dataset.csv', sep = \"; \")\n"
     ]
    }
   ],
   "source": [
    "import pandas as pd\n",
    "df = pd.read_csv('/home/rfaro/anaconda3/EPFL_ML/ml-project-2-betterthanpoli/data/qa_heatpumps_2.csv', sep = \";\")\n",
    "queries1 = df['Question'].tolist()\n",
    "answers1 = df['Answer'].tolist()\n",
    "df2 = pd.read_csv('/home/rfaro/anaconda3/EPFL_ML/ml-project-2-betterthanpoli/RL/RLHF/q&a_dataset.csv', sep = \"; \")\n",
    "queries2 = df2['Question'].tolist()\n",
    "answers2 = df2['Answer'].tolist()\n",
    "\n",
    "queries = queries1 + queries2\n",
    "answers = answers1 + answers2\n",
    "\n",
    "# data = list(zip(queries, answers))\n",
    "data = []\n",
    "for i in range(len(queries)):\n",
    "    data.append([])\n",
    "    data[i].append(queries[i])\n",
    "    data[i].append(answers[i])"
   ]
  },
  {
   "cell_type": "code",
   "execution_count": 53,
   "metadata": {},
   "outputs": [
    {
     "data": {
      "text/plain": [
       "['\"What are the challenges and solutions associated with the installation of heat pumps in various climates?',\n",
       " 'The installation of heat pumps in various climates presents challenges related to efficiency and performance. In extremely cold conditions, heat pumps may experience reduced efficiency and heating capacity, frost formation on the outdoor evaporator, and potential compressor damage. These challenges can be mitigated by using supplemental heat sources, advanced defrosting technologies, and selecting heat pumps designed for low-temperature operation. In hot climates, ensuring adequate cooling capacity and managing high ambient temperatures are key considerations. Proper system design, sizing, and installation, along with the integration of thermal storage and renewable energy systems, can help address these challenges and ensure reliable performance across different climates.\"']"
      ]
     },
     "execution_count": 53,
     "metadata": {},
     "output_type": "execute_result"
    }
   ],
   "source": [
    "data[788]"
   ]
  },
  {
   "cell_type": "code",
   "execution_count": 54,
   "metadata": {},
   "outputs": [
    {
     "name": "stderr",
     "output_type": "stream",
     "text": [
      "100%|██████████| 97/97 [02:35<00:00,  1.61s/it]\n"
     ]
    }
   ],
   "source": [
    "import tqdm\n",
    "for i in tqdm.tqdm(range(787, len(data))):\n",
    "    chat1 = Chat.create(\"Test Chat\")\n",
    "    prompt = data[i][0]\n",
    "    good_answer = data[i][1]\n",
    "\n",
    "    prompt += \"Here is a good answer to this question: \" + good_answer + \" Generate a different but worse answer to the same prompt.\"\n",
    "    instruction = \"Make your answer not too informal but less clear, less complete, less engaging, less relevant.\"\n",
    "    message = chat1.ask(prompt, instruction = instruction, model_args={\n",
    "        \"max_tokens\": 60, # default is 100\n",
    "         })\n",
    "    data[i].append(str(message))"
   ]
  },
  {
   "cell_type": "code",
   "execution_count": 57,
   "metadata": {},
   "outputs": [],
   "source": [
    "dataset = {'prompt': [], 'chosen': [], 'rejected': []}\n",
    "for i in range(len(data)):\n",
    "    dataset['prompt'].append(data[i][0])\n",
    "    dataset['chosen'].append(data[i][1])\n",
    "    dataset['rejected'].append(data[i][2])\n",
    "    "
   ]
  },
  {
   "cell_type": "code",
   "execution_count": 58,
   "metadata": {},
   "outputs": [],
   "source": [
    "import json\n",
    "json.dump(dataset, open('dpo_dataset.json', 'w'))"
   ]
  },
  {
   "cell_type": "code",
   "execution_count": null,
   "metadata": {},
   "outputs": [],
   "source": []
  }
 ],
 "metadata": {
  "kernelspec": {
   "display_name": "Python 3",
   "language": "python",
   "name": "python3"
  },
  "language_info": {
   "codemirror_mode": {
    "name": "ipython",
    "version": 3
   },
   "file_extension": ".py",
   "mimetype": "text/x-python",
   "name": "python",
   "nbconvert_exporter": "python",
   "pygments_lexer": "ipython3",
   "version": "3.10.9"
  }
 },
 "nbformat": 4,
 "nbformat_minor": 2
}
