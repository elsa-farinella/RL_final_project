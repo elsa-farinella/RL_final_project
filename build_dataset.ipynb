{
 "cells": [
  {
   "cell_type": "code",
   "execution_count": null,
   "metadata": {},
   "outputs": [],
   "source": [
    "import gpt_wrapper\n",
    "\n",
    "gpt_wrapper.api_base = \"\"\n",
    "gpt_wrapper.api_key = \"\""
   ]
  },
  {
   "cell_type": "code",
   "execution_count": null,
   "metadata": {},
   "outputs": [],
   "source": [
    "from gpt_wrapper.chat import Chat\n",
    "chat1 = Chat.create(\"Test Chat\")"
   ]
  },
  {
   "cell_type": "code",
   "execution_count": null,
   "metadata": {},
   "outputs": [],
   "source": [
    "import pandas as pd\n",
    "df = pd.read_csv('data/qa_heatpumps_2.csv', sep = \";\")\n",
    "queries1 = df['Question'].tolist()\n",
    "answers1 = df['Answer'].tolist()\n",
    "df2 = pd.read_csv('q&a_dataset.csv', sep = \"; \")\n",
    "queries2 = df2['Question'].tolist()\n",
    "answers2 = df2['Answer'].tolist()\n",
    "\n",
    "queries = queries1 + queries2\n",
    "answers = answers1 + answers2\n",
    "\n",
    "data = []\n",
    "for i in range(len(queries)):\n",
    "    data.append([])\n",
    "    data[i].append(queries[i])\n",
    "    data[i].append(answers[i])"
   ]
  },
  {
   "cell_type": "code",
   "execution_count": null,
   "metadata": {},
   "outputs": [],
   "source": [
    "import tqdm\n",
    "for i in tqdm.tqdm(range(787, len(data))):\n",
    "    chat1 = Chat.create(\"Test Chat\")\n",
    "    prompt = data[i][0]\n",
    "    good_answer = data[i][1]\n",
    "\n",
    "    prompt += \"Here is a good answer to this question: \" + good_answer + \" Generate a different but worse answer to the same prompt.\"\n",
    "    instruction = \"Make your answer not too informal but less clear, less complete, less engaging, less relevant.\"\n",
    "    message = chat1.ask(prompt, instruction = instruction, model_args={\n",
    "        \"max_tokens\": 60, # default is 100\n",
    "         })\n",
    "    data[i].append(str(message))"
   ]
  },
  {
   "cell_type": "code",
   "execution_count": null,
   "metadata": {},
   "outputs": [],
   "source": [
    "dataset = {'prompt': [], 'chosen': [], 'rejected': []}\n",
    "for i in range(len(data)):\n",
    "    dataset['prompt'].append(data[i][0])\n",
    "    dataset['chosen'].append(data[i][1])\n",
    "    dataset['rejected'].append(data[i][2])\n",
    "    "
   ]
  },
  {
   "cell_type": "code",
   "execution_count": null,
   "metadata": {},
   "outputs": [],
   "source": [
    "import json\n",
    "json.dump(dataset, open('dpo_dataset.json', 'w'))"
   ]
  }
 ],
 "metadata": {
  "kernelspec": {
   "display_name": "Python 3",
   "language": "python",
   "name": "python3"
  },
  "language_info": {
   "codemirror_mode": {
    "name": "ipython",
    "version": 3
   },
   "file_extension": ".py",
   "mimetype": "text/x-python",
   "name": "python",
   "nbconvert_exporter": "python",
   "pygments_lexer": "ipython3",
   "version": "3.10.9"
  }
 },
 "nbformat": 4,
 "nbformat_minor": 2
}
