{
 "cells": [
  {
   "cell_type": "code",
   "execution_count": 7,
   "metadata": {},
   "outputs": [
    {
     "ename": "TypeError",
     "evalue": "environment_step() missing 1 required positional argument: 'chat'",
     "output_type": "error",
     "traceback": [
      "\u001b[0;31m---------------------------------------------------------------------------\u001b[0m",
      "\u001b[0;31mTypeError\u001b[0m                                 Traceback (most recent call last)",
      "Cell \u001b[0;32mIn[7], line 94\u001b[0m\n\u001b[1;32m     92\u001b[0m \u001b[38;5;66;03m# Example queries sequence\u001b[39;00m\n\u001b[1;32m     93\u001b[0m queries \u001b[38;5;241m=\u001b[39m [\u001b[38;5;124m'\u001b[39m\u001b[38;5;124minitial query\u001b[39m\u001b[38;5;124m'\u001b[39m, \u001b[38;5;124m'\u001b[39m\u001b[38;5;124mfollow-up\u001b[39m\u001b[38;5;124m'\u001b[39m, \u001b[38;5;124m'\u001b[39m\u001b[38;5;124mnew topic\u001b[39m\u001b[38;5;124m'\u001b[39m, \u001b[38;5;124m'\u001b[39m\u001b[38;5;124mfollow-up\u001b[39m\u001b[38;5;124m'\u001b[39m]\n\u001b[0;32m---> 94\u001b[0m \u001b[43mtrain_policy_network\u001b[49m\u001b[43m(\u001b[49m\u001b[43mqueries\u001b[49m\u001b[43m,\u001b[49m\u001b[43m \u001b[49m\u001b[43mpolicy_network\u001b[49m\u001b[43m,\u001b[49m\u001b[43m \u001b[49m\u001b[43moptimizer\u001b[49m\u001b[43m)\u001b[49m\n",
      "Cell \u001b[0;32mIn[7], line 57\u001b[0m, in \u001b[0;36mtrain_policy_network\u001b[0;34m(queries, policy_network, optimizer)\u001b[0m\n\u001b[1;32m     54\u001b[0m action \u001b[38;5;241m=\u001b[39m \u001b[38;5;124m'\u001b[39m\u001b[38;5;124mFETCH\u001b[39m\u001b[38;5;124m'\u001b[39m \u001b[38;5;28;01mif\u001b[39;00m action_index\u001b[38;5;241m.\u001b[39mitem() \u001b[38;5;241m==\u001b[39m \u001b[38;5;241m0\u001b[39m \u001b[38;5;28;01melse\u001b[39;00m \u001b[38;5;124m'\u001b[39m\u001b[38;5;124mNO_FETCH\u001b[39m\u001b[38;5;124m'\u001b[39m\n\u001b[1;32m     56\u001b[0m \u001b[38;5;66;03m# Simulate the environment step\u001b[39;00m\n\u001b[0;32m---> 57\u001b[0m gpt4_evaluation \u001b[38;5;241m=\u001b[39m \u001b[43menvironment_step\u001b[49m\u001b[43m(\u001b[49m\u001b[43maction\u001b[49m\u001b[43m,\u001b[49m\u001b[43m \u001b[49m\u001b[43mquery\u001b[49m\u001b[43m)\u001b[49m\n\u001b[1;32m     58\u001b[0m reward \u001b[38;5;241m=\u001b[39m shape_reward(gpt4_evaluation)\n\u001b[1;32m     59\u001b[0m rewards\u001b[38;5;241m.\u001b[39mappend(reward)\n",
      "\u001b[0;31mTypeError\u001b[0m: environment_step() missing 1 required positional argument: 'chat'"
     ]
    }
   ],
   "source": [
    "import numpy as np\n",
    "import torch\n",
    "import torch.nn as nn\n",
    "import torch.optim as optim\n",
    "import gpt_wrapper\n",
    "from gpt_wrapper.chat import Chat\n",
    "\n",
    "gpt_wrapper.api_base = \"http://mnlp-backend-938795011.eu-central-1.elb.amazonaws.com\"\n",
    "gpt_wrapper.api_key = \"3e510581-28fa-4342-9758-4fa131bc2f42\"\n",
    "\n",
    "# Define the policy network\n",
    "class PolicyNetwork(nn.Module):\n",
    "    def __init__(self, input_size, hidden_size, output_size):\n",
    "        super(PolicyNetwork, self).__init__()\n",
    "        self.fc1 = nn.Linear(input_size, hidden_size)\n",
    "        self.relu = nn.ReLU()\n",
    "        self.fc2 = nn.Linear(hidden_size, output_size)\n",
    "        self.softmax = nn.Softmax(dim=0)\n",
    "\n",
    "    def forward(self, x):\n",
    "        x = self.fc1(x)\n",
    "        x = self.relu(x)\n",
    "        x = self.fc2(x)\n",
    "        return self.softmax(x)\n",
    "\n",
    "# Reward shaping function\n",
    "def reward(gpt4_evaluation, action):\n",
    "    if action == \"FETCH\":\n",
    "        return 0.1\n",
    "    else: \n",
    "        if gpt4_evaluation == 'Good':\n",
    "            return 2  # Positive reward for good evaluation without fetching\n",
    "        elif gpt4_evaluation == 'Bad':\n",
    "            return -1  # Negative reward for bad evaluation\n",
    "\n",
    "# Simulate the environment\n",
    "def environment_step(question, answer, chat):\n",
    "    prompt = \"Here is the question:\" + question + \". And here is the given answer:\" + answer + \". Do you think it was a good or bad answer?\"\n",
    "    evaluation = str(chat.ask(prompt = prompt, instruction = \"Answer with one word, either 'good' or 'bad'. Do not give an explanation.\"))\n",
    "    return evaluation\n",
    "\n",
    "# Training the policy network\n",
    "def train_policy_network(queries, policy_network, optimizer):\n",
    "    gamma = 0.1  # discount factor for future rewards\n",
    "    for epoch in range(100):\n",
    "        chat = Chat.create(\"chat\")\n",
    "        state = queries[0]\n",
    "        rewards = []\n",
    "        log_probs = []\n",
    "        for query in queries:\n",
    "            # Forward pass\n",
    "            probs = policy_network(state)\n",
    "            m = torch.distributions.Categorical(probs)\n",
    "            action_index = m.sample()\n",
    "            action = 'FETCH' if action_index.item() == 0 else 'NO_FETCH'\n",
    "            results = db.similarity_search_with_score(query_text, k = 5)\n",
    "            context_text = \"\\n\\n---\\n\\n\".join([doc.page_content for doc, _score in results])\n",
    "            \n",
    "            if action == 'FETCH':\n",
    "                state += context_text\n",
    "            \n",
    "            answer = str(chat.ask(content = state))\n",
    "            \n",
    "            # Simulate the environment step\n",
    "            gpt4_evaluation = environment_step(query, answer, chat)\n",
    "            reward = reward(gpt4_evaluation, action)\n",
    "            rewards.append(reward)\n",
    "            \n",
    "            # Calculate the log probability\n",
    "            log_prob = m.log_prob(action_index)\n",
    "            log_probs.append(log_prob)\n",
    "            \n",
    "            # Update the state based on the action taken\n",
    "            state = torch.tensor([1, 0] if action == 'FETCH' else [0, 1], dtype=torch.float)\n",
    "\n",
    "        # Update policy\n",
    "        discounted_rewards = []\n",
    "        cumulative_rewards = 0\n",
    "        for reward in rewards[::-1]:\n",
    "            cumulative_rewards = reward + gamma * cumulative_rewards\n",
    "            discounted_rewards.insert(0, cumulative_rewards)\n",
    "\n",
    "        discounted_rewards = torch.tensor(discounted_rewards)\n",
    "        policy_loss = []\n",
    "        for log_prob, discounted_reward in zip(log_probs, discounted_rewards):\n",
    "            policy_loss.append(-log_prob * discounted_reward)\n",
    "\n",
    "        optimizer.zero_grad()\n",
    "        policy_loss = torch.stack(policy_loss).sum()\n",
    "        policy_loss.backward()\n",
    "        optimizer.step()\n",
    "\n",
    "# Instantiate the network and optimizer\n",
    "input_size = 2  # Example: size of the state vector\n",
    "hidden_size = 128\n",
    "output_size = 2  # Two actions: FETCH or NO_FETCH\n",
    "policy_network = PolicyNetwork(input_size, hidden_size, output_size)\n",
    "optimizer = optim.Adam(policy_network.parameters(), lr=0.01)\n",
    "\n",
    "# Example queries sequence\n",
    "queries = ['initial query', 'follow-up', 'new topic', 'follow-up']\n",
    "train_policy_network(queries, policy_network, optimizer)"
   ]
  },
  {
   "cell_type": "code",
   "execution_count": 10,
   "metadata": {},
   "outputs": [
    {
     "name": "stdout",
     "output_type": "stream",
     "text": [
      "-1\n"
     ]
    }
   ],
   "source": [
    "chat = Chat.create(\"chat\")\n",
    "prompt = \"Here is the question:\" + \"What is a heat pump\" + \". And here is the given answer:\" + \"A heat pump is a type of animal\" + \". Do you think it was a good or bad answer?\"\n",
    "evaluation = str(chat.ask(content = prompt, instruction = \"Answer with one word, either 'good' or 'bad'. Do not give an explanation.\"))\n",
    "print(reward(evaluation, False))\n"
   ]
  },
  {
   "cell_type": "code",
   "execution_count": null,
   "metadata": {},
   "outputs": [],
   "source": []
  }
 ],
 "metadata": {
  "kernelspec": {
   "display_name": "Python 3",
   "language": "python",
   "name": "python3"
  },
  "language_info": {
   "codemirror_mode": {
    "name": "ipython",
    "version": 3
   },
   "file_extension": ".py",
   "mimetype": "text/x-python",
   "name": "python",
   "nbconvert_exporter": "python",
   "pygments_lexer": "ipython3",
   "version": "3.9.6"
  }
 },
 "nbformat": 4,
 "nbformat_minor": 2
}
